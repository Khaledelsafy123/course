{
  "cells": [
    {
      "cell_type": "markdown",
      "metadata": {
        "id": "view-in-github",
        "colab_type": "text"
      },
      "source": [
        "<a href=\"https://colab.research.google.com/github/Khaledelsafy123/course/blob/main/C1_W1_Lab04_Cost_function_Soln_(1).ipynb\" target=\"_parent\"><img src=\"https://colab.research.google.com/assets/colab-badge.svg\" alt=\"Open In Colab\"/></a>"
      ]
    },
    {
      "cell_type": "markdown",
      "metadata": {
        "id": "bdfVG9vitF4d"
      },
      "source": [
        "# Optional  Lab: Cost Function\n",
        "<figure>\n",
        "    <center> <img src=\"https://raw.githubusercontent.com/marinavillaschi/ML-AndrewNg/6c996c5e4073dfe767114d4c04ff13da8b8574fa/C1-Supervised%20ML_Regression%20and%20Classification/Week%201/images/C1_W1_L3_S2_Lecture_b.png\"  style=\"width:1000px;height:200px;\" ></center>\n",
        "</figure>\n",
        "\n"
      ],
      "id": "bdfVG9vitF4d"
    },
    {
      "cell_type": "markdown",
      "metadata": {
        "id": "8SbAqwQbtF4g"
      },
      "source": [
        "## Goals\n",
        "In this lab you will:\n",
        "- you will implement and explore the `cost` function for linear regression with one variable.\n"
      ],
      "id": "8SbAqwQbtF4g"
    },
    {
      "cell_type": "markdown",
      "metadata": {
        "id": "bLwnQLegtF4h"
      },
      "source": [
        "## Tools\n",
        "In this lab we will make use of:\n",
        "- NumPy, a popular library for scientific computing\n",
        "- Matplotlib, a popular library for plotting data\n",
        "- local plotting routines in the lab_utils_uni.py file in the local directory"
      ],
      "id": "bLwnQLegtF4h"
    },
    {
      "cell_type": "code",
      "execution_count": 5,
      "metadata": {
        "colab": {
          "base_uri": "https://localhost:8080/"
        },
        "id": "ENKHRuzCtF4h",
        "outputId": "082e4a25-423a-4316-e09e-2cd9529bedf8"
      },
      "outputs": [
        {
          "output_type": "stream",
          "name": "stderr",
          "text": [
            "UsageError: unrecognized arguments: # الرسومات التفاعليه التكبير والتصغير\n"
          ]
        }
      ],
      "source": [
        "import numpy as np\n",
        "import matplotlib # الرسومات التفاعليه التكبير والتصغير\n",
        "matplotlib.use('TkAgg')\n",
        "\n",
        "import matplotlib.pyplot as plt # الرسومات البيانيه\n",
        "from lab_utils_uni import plt_intuition, plt_stationary, plt_update_onclick, soup_bowl\n",
        "plt.style.use('./deeplearning.mplstyle')"
      ],
      "id": "ENKHRuzCtF4h"
    },
    {
      "cell_type": "markdown",
      "metadata": {
        "id": "JVgSRxTNtF4i"
      },
      "source": [
        "## Problem Statement\n",
        "\n",
        "You would like a model which can predict housing prices given the size of the house.  \n",
        "Let's use the same two data points as before the previous lab- a house with 1000 square feet sold for \\\\$300,000 and a house with 2000 square feet sold for \\\\$500,000.\n",
        "\n",
        "\n",
        "| Size (1000 sqft)     | Price (1000s of dollars) |\n",
        "| -------------------| ------------------------ |\n",
        "| 1                 | 300                      |\n",
        "| 2                  | 500                      |\n"
      ],
      "id": "JVgSRxTNtF4i"
    },
    {
      "cell_type": "code",
      "execution_count": 6,
      "metadata": {
        "id": "PUaHM5OStF4j"
      },
      "outputs": [],
      "source": [
        "x_train = np.array([1.0, 2.0])           #(size in 1000 square feet)\n",
        "y_train = np.array([300.0, 500.0])           #(price in 1000s of dollars)"
      ],
      "id": "PUaHM5OStF4j"
    },
    {
      "cell_type": "markdown",
      "metadata": {
        "id": "vLrbZYuvtF4k"
      },
      "source": [
        "## Computing Cost\n",
        "The term 'cost' in this assignment might be a little confusing since the data is housing cost. Here, cost is a measure how well our model is predicting the target price of the house. The term 'price' is used for housing data.\n",
        "\n",
        "The equation for cost with one variable is:\n",
        "  $$J(w,b) = \\frac{1}{2m} \\sum\\limits_{i = 0}^{m-1} (f_{w,b}(x^{(i)}) - y^{(i)})^2 \\tag{1}$$\n",
        "\n",
        "where\n",
        "  $$f_{w,b}(x^{(i)}) = wx^{(i)} + b \\tag{2}$$\n",
        "  \n",
        "- $f_{w,b}(x^{(i)})$ is our prediction for example $i$ using parameters $w,b$.  \n",
        "- $(f_{w,b}(x^{(i)}) -y^{(i)})^2$ is the squared difference between the target value and the prediction.   \n",
        "- These differences are summed over all the $m$ examples and divided by `2m` to produce the cost, $J(w,b)$.  \n",
        ">Note, in lecture summation ranges are typically from 1 to m, while code will be from 0 to m-1.\n"
      ],
      "id": "vLrbZYuvtF4k"
    },
    {
      "cell_type": "markdown",
      "metadata": {
        "id": "Vb5sjRAStF4k"
      },
      "source": [
        "The code below calculates cost by looping over each example. In each loop:\n",
        "- `f_wb`, a prediction is calculated\n",
        "- the difference between the target and the prediction is calculated and squared.\n",
        "- this is added to the total cost."
      ],
      "id": "Vb5sjRAStF4k"
    },
    {
      "cell_type": "code",
      "execution_count": 7,
      "metadata": {
        "id": "slJwSqj7tF4l"
      },
      "outputs": [],
      "source": [
        "def compute_cost(x, y, w, b):\n",
        "    \"\"\"\n",
        "    Computes the cost function for linear regression.\n",
        "\n",
        "    Args:\n",
        "      x (ndarray (m,)): Data, m examples\n",
        "      y (ndarray (m,)): target values\n",
        "      w,b (scalar)    : model parameters\n",
        "\n",
        "    Returns\n",
        "        total_cost (float): The cost of using w,b as the parameters for linear regression\n",
        "               to fit the data points in x and y\n",
        "    \"\"\"\n",
        "    # number of training examples\n",
        "    m = x.shape[0]\n",
        "\n",
        "    cost_sum = 0\n",
        "    for i in range(m):\n",
        "        f_wb = w * x[i] + b\n",
        "        cost = (f_wb - y[i]) ** 2\n",
        "        cost_sum = cost_sum + cost\n",
        "    total_cost = (1 / (2 * m)) * cost_sum\n",
        "\n",
        "    return total_cost"
      ],
      "id": "slJwSqj7tF4l"
    },
    {
      "cell_type": "markdown",
      "metadata": {
        "id": "X88ji1Q0tF4l"
      },
      "source": [
        "## Cost Function Intuition"
      ],
      "id": "X88ji1Q0tF4l"
    },
    {
      "cell_type": "markdown",
      "metadata": {
        "id": "Row0WAaVtF4m"
      },
      "source": [
        "<img align=\"left\" src=\"https://raw.githubusercontent.com/marinavillaschi/ML-AndrewNg/6c996c5e4073dfe767114d4c04ff13da8b8574fa/C1-Supervised%20ML_Regression%20and%20Classification/Week%201/images/C1_W1_Lab02_GoalOfRegression.PNG\"    style=\" width:380px; padding: 10px;  \" /> Your goal is to find a model $f_{w,b}(x) = wx + b$, with parameters $w,b$,  which will accurately predict house values given an input $x$. The cost is a measure of how accurate the model is on the training data.\n",
        "\n",
        "The cost equation (1) above shows that if $w$ and $b$ can be selected such that the predictions $f_{w,b}(x)$ match the target data $y$, the $(f_{w,b}(x^{(i)}) - y^{(i)})^2 $ term will be zero and the cost minimized. In this simple two point example, you can achieve this!\n",
        "\n",
        "In the previous lab, you determined that $b=100$ provided an optimal solution so let's set $b$ to 100 and focus on $w$.\n",
        "\n",
        "<br/>\n",
        "Below, use the slider control to select the value of $w$ that minimizes cost. It can take a few seconds for the plot to update."
      ],
      "id": "Row0WAaVtF4m"
    },
    {
      "cell_type": "code",
      "execution_count": 8,
      "metadata": {
        "colab": {
          "base_uri": "https://localhost:8080/",
          "height": 141
        },
        "id": "3u2i-bWxtF4m",
        "outputId": "3dbb195c-44eb-4742-9712-117275d0d163"
      },
      "outputs": [
        {
          "output_type": "error",
          "ename": "NameError",
          "evalue": "name 'plt_intuition' is not defined",
          "traceback": [
            "\u001b[0;31m---------------------------------------------------------------------------\u001b[0m",
            "\u001b[0;31mNameError\u001b[0m                                 Traceback (most recent call last)",
            "\u001b[0;32m<ipython-input-8-795e6483b492>\u001b[0m in \u001b[0;36m<cell line: 0>\u001b[0;34m()\u001b[0m\n\u001b[0;32m----> 1\u001b[0;31m \u001b[0mplt_intuition\u001b[0m\u001b[0;34m(\u001b[0m\u001b[0mx_train\u001b[0m\u001b[0;34m,\u001b[0m\u001b[0my_train\u001b[0m\u001b[0;34m)\u001b[0m\u001b[0;34m\u001b[0m\u001b[0;34m\u001b[0m\u001b[0m\n\u001b[0m",
            "\u001b[0;31mNameError\u001b[0m: name 'plt_intuition' is not defined"
          ]
        }
      ],
      "source": [
        "plt_intuition(x_train,y_train)"
      ],
      "id": "3u2i-bWxtF4m"
    },
    {
      "cell_type": "markdown",
      "metadata": {
        "id": "Gh0f3Yv-tF4n"
      },
      "source": [
        "The plot contains a few points that are worth mentioning.\n",
        "- cost is minimized when $w = 200$, which matches results from the previous lab\n",
        "- Because the difference between the target and pediction is squared in the cost equation, the cost increases rapidly when $w$ is either too large or too small.\n",
        "- Using the `w` and `b` selected by minimizing cost results in a line which is a perfect fit to the data."
      ],
      "id": "Gh0f3Yv-tF4n"
    },
    {
      "cell_type": "markdown",
      "metadata": {
        "id": "LfcBXAORtF4o"
      },
      "source": [
        "## Cost Function Visualization- 3D\n",
        "\n",
        "You can see how cost varies with respect to *both* `w` and `b` by plotting in 3D or using a contour plot.   \n",
        "It is worth noting that some of the plotting in this course can become quite involved. The plotting routines are provided and while it can be instructive to read through the code to become familiar with the methods, it is not needed to complete the course successfully. The routines are in lab_utils_uni.py in the local directory."
      ],
      "id": "LfcBXAORtF4o"
    },
    {
      "cell_type": "markdown",
      "metadata": {
        "id": "diAfmEoXtF4o"
      },
      "source": [
        "### Larger Data Set\n",
        "It's use instructive to view a scenario with a few more data points. This data set includes data points that do not fall on the same line. What does that mean for the cost equation? Can we find $w$, and $b$ that will give us a cost of 0?"
      ],
      "id": "diAfmEoXtF4o"
    },
    {
      "cell_type": "code",
      "execution_count": 9,
      "metadata": {
        "id": "_coomulrtF4o"
      },
      "outputs": [],
      "source": [
        "x_train = np.array([1.0, 1.7, 2.0, 2.5, 3.0, 3.2])\n",
        "y_train = np.array([250, 300, 480,  430,   630, 730,])"
      ],
      "id": "_coomulrtF4o"
    },
    {
      "cell_type": "markdown",
      "metadata": {
        "id": "GsrN2JV2tF4o"
      },
      "source": [
        "In the contour plot, click on a point to select `w` and `b` to achieve the lowest cost. Use the contours to guide your selections. Note, it can take a few seconds to update the graph."
      ],
      "id": "GsrN2JV2tF4o"
    },
    {
      "cell_type": "code",
      "execution_count": 10,
      "metadata": {
        "colab": {
          "base_uri": "https://localhost:8080/",
          "height": 176
        },
        "id": "x-ar-H14tF4o",
        "outputId": "5e47949d-0c8b-485a-9546-36716d1ed6e0"
      },
      "outputs": [
        {
          "output_type": "error",
          "ename": "NameError",
          "evalue": "name 'plt' is not defined",
          "traceback": [
            "\u001b[0;31m---------------------------------------------------------------------------\u001b[0m",
            "\u001b[0;31mNameError\u001b[0m                                 Traceback (most recent call last)",
            "\u001b[0;32m<ipython-input-10-4170e381ddbe>\u001b[0m in \u001b[0;36m<cell line: 0>\u001b[0;34m()\u001b[0m\n\u001b[0;32m----> 1\u001b[0;31m \u001b[0mplt\u001b[0m\u001b[0;34m.\u001b[0m\u001b[0mclose\u001b[0m\u001b[0;34m(\u001b[0m\u001b[0;34m'all'\u001b[0m\u001b[0;34m)\u001b[0m\u001b[0;34m\u001b[0m\u001b[0;34m\u001b[0m\u001b[0m\n\u001b[0m\u001b[1;32m      2\u001b[0m \u001b[0mfig\u001b[0m\u001b[0;34m,\u001b[0m \u001b[0max\u001b[0m\u001b[0;34m,\u001b[0m \u001b[0mdyn_items\u001b[0m \u001b[0;34m=\u001b[0m \u001b[0mplt_stationary\u001b[0m\u001b[0;34m(\u001b[0m\u001b[0mx_train\u001b[0m\u001b[0;34m,\u001b[0m \u001b[0my_train\u001b[0m\u001b[0;34m)\u001b[0m\u001b[0;34m\u001b[0m\u001b[0;34m\u001b[0m\u001b[0m\n\u001b[1;32m      3\u001b[0m \u001b[0mupdater\u001b[0m \u001b[0;34m=\u001b[0m \u001b[0mplt_update_onclick\u001b[0m\u001b[0;34m(\u001b[0m\u001b[0mfig\u001b[0m\u001b[0;34m,\u001b[0m \u001b[0max\u001b[0m\u001b[0;34m,\u001b[0m \u001b[0mx_train\u001b[0m\u001b[0;34m,\u001b[0m \u001b[0my_train\u001b[0m\u001b[0;34m,\u001b[0m \u001b[0mdyn_items\u001b[0m\u001b[0;34m)\u001b[0m\u001b[0;34m\u001b[0m\u001b[0;34m\u001b[0m\u001b[0m\n",
            "\u001b[0;31mNameError\u001b[0m: name 'plt' is not defined"
          ]
        }
      ],
      "source": [
        "plt.close('all')\n",
        "fig, ax, dyn_items = plt_stationary(x_train, y_train)\n",
        "updater = plt_update_onclick(fig, ax, x_train, y_train, dyn_items)"
      ],
      "id": "x-ar-H14tF4o"
    },
    {
      "cell_type": "markdown",
      "metadata": {
        "id": "v5kL2iJYtF4p"
      },
      "source": [
        "Above, note the dashed lines in the left plot. These represent the portion of the cost contributed by each example in your training set. In this case, values of approximately $w=209$ and $b=2.4$ provide low cost. Note that, because our training examples are not on a line, the minimum cost is not zero."
      ],
      "id": "v5kL2iJYtF4p"
    },
    {
      "cell_type": "markdown",
      "metadata": {
        "id": "abdG2s7ztF4p"
      },
      "source": [
        "### Convex Cost surface\n",
        "The fact that the cost function squares the loss ensures that the 'error surface' is convex like a soup bowl. It will always have a minimum that can be reached by following the gradient in all dimensions. In the previous plot, because the $w$ and $b$ dimensions scale differently, this is not easy to recognize. The following plot, where $w$ and $b$ are symmetric, was shown in lecture:"
      ],
      "id": "abdG2s7ztF4p"
    },
    {
      "cell_type": "code",
      "execution_count": 11,
      "metadata": {
        "colab": {
          "base_uri": "https://localhost:8080/",
          "height": 141
        },
        "id": "yhdclxzptF4p",
        "outputId": "465887dc-0094-4697-cffc-aafb1703505f"
      },
      "outputs": [
        {
          "output_type": "error",
          "ename": "NameError",
          "evalue": "name 'soup_bowl' is not defined",
          "traceback": [
            "\u001b[0;31m---------------------------------------------------------------------------\u001b[0m",
            "\u001b[0;31mNameError\u001b[0m                                 Traceback (most recent call last)",
            "\u001b[0;32m<ipython-input-11-0a7cb5aa186d>\u001b[0m in \u001b[0;36m<cell line: 0>\u001b[0;34m()\u001b[0m\n\u001b[0;32m----> 1\u001b[0;31m \u001b[0msoup_bowl\u001b[0m\u001b[0;34m(\u001b[0m\u001b[0;34m)\u001b[0m\u001b[0;34m\u001b[0m\u001b[0;34m\u001b[0m\u001b[0m\n\u001b[0m",
            "\u001b[0;31mNameError\u001b[0m: name 'soup_bowl' is not defined"
          ]
        }
      ],
      "source": [
        "soup_bowl()"
      ],
      "id": "yhdclxzptF4p"
    },
    {
      "cell_type": "markdown",
      "metadata": {
        "id": "pkyXf4v-tF4p"
      },
      "source": [
        "# Congratulations!\n",
        "You have learned the following:\n",
        " - The cost equation provides a measure of how well your predictions match your training data.\n",
        " - Minimizing the cost can provide optimal values of $w$, $b$."
      ],
      "id": "pkyXf4v-tF4p"
    },
    {
      "cell_type": "code",
      "execution_count": null,
      "metadata": {
        "id": "bWwzR8f3tF4q"
      },
      "outputs": [],
      "source": [],
      "id": "bWwzR8f3tF4q"
    }
  ],
  "metadata": {
    "kernelspec": {
      "display_name": "Python 3",
      "language": "python",
      "name": "python3"
    },
    "language_info": {
      "codemirror_mode": {
        "name": "ipython",
        "version": 3
      },
      "file_extension": ".py",
      "mimetype": "text/x-python",
      "name": "python",
      "nbconvert_exporter": "python",
      "pygments_lexer": "ipython3",
      "version": "3.7.6"
    },
    "toc-autonumbering": false,
    "colab": {
      "provenance": [],
      "include_colab_link": true
    }
  },
  "nbformat": 4,
  "nbformat_minor": 5
}
